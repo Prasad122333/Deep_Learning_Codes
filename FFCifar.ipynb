{
 "cells": [
  {
   "cell_type": "code",
   "execution_count": 1,
   "metadata": {},
   "outputs": [
    {
     "name": "stdout",
     "output_type": "stream",
     "text": [
      "WARNING:tensorflow:From c:\\Users\\prasad\\Downloads\\DL_Codes\\venv\\Lib\\site-packages\\keras\\src\\losses.py:2976: The name tf.losses.sparse_softmax_cross_entropy is deprecated. Please use tf.compat.v1.losses.sparse_softmax_cross_entropy instead.\n",
      "\n"
     ]
    }
   ],
   "source": [
    "import tensorflow as tf\n",
    "from tensorflow.keras import layers, models\n",
    "from tensorflow.keras.datasets import cifar10\n",
    "from tensorflow.keras.utils import to_categorical\n",
    "from tensorflow.keras.optimizers import Adam"
   ]
  },
  {
   "cell_type": "code",
   "execution_count": 2,
   "metadata": {},
   "outputs": [],
   "source": [
    "(train_images, train_labels), (test_images, test_labels) = cifar10.load_data()"
   ]
  },
  {
   "cell_type": "code",
   "execution_count": 3,
   "metadata": {},
   "outputs": [],
   "source": [
    "train_images = train_images.astype('float32') / 255\n",
    "test_images = test_images.astype('float32') / 255"
   ]
  },
  {
   "cell_type": "code",
   "execution_count": 4,
   "metadata": {},
   "outputs": [],
   "source": [
    "train_labels = to_categorical(train_labels)\n",
    "test_labels = to_categorical(test_labels)"
   ]
  },
  {
   "cell_type": "code",
   "execution_count": 5,
   "metadata": {},
   "outputs": [
    {
     "name": "stdout",
     "output_type": "stream",
     "text": [
      "WARNING:tensorflow:From c:\\Users\\prasad\\Downloads\\DL_Codes\\venv\\Lib\\site-packages\\keras\\src\\backend.py:873: The name tf.get_default_graph is deprecated. Please use tf.compat.v1.get_default_graph instead.\n",
      "\n"
     ]
    }
   ],
   "source": [
    "model = models.Sequential()\n",
    "model.add(layers.Flatten(input_shape=(32, 32, 3)))\n",
    "model.add(layers.Dense(256, activation='relu'))\n",
    "model.add(layers.Dense(128, activation='relu'))\n",
    "model.add(layers.Dense(10, activation='softmax'))"
   ]
  },
  {
   "cell_type": "code",
   "execution_count": 6,
   "metadata": {},
   "outputs": [
    {
     "name": "stdout",
     "output_type": "stream",
     "text": [
      "WARNING:tensorflow:From c:\\Users\\prasad\\Downloads\\DL_Codes\\venv\\Lib\\site-packages\\keras\\src\\optimizers\\__init__.py:309: The name tf.train.Optimizer is deprecated. Please use tf.compat.v1.train.Optimizer instead.\n",
      "\n"
     ]
    }
   ],
   "source": [
    "model.compile(optimizer='adam',\n",
    "              loss='categorical_crossentropy',\n",
    "              metrics=['accuracy'])"
   ]
  },
  {
   "cell_type": "code",
   "execution_count": 7,
   "metadata": {},
   "outputs": [
    {
     "name": "stdout",
     "output_type": "stream",
     "text": [
      "Epoch 1/15\n",
      "WARNING:tensorflow:From c:\\Users\\prasad\\Downloads\\DL_Codes\\venv\\Lib\\site-packages\\keras\\src\\utils\\tf_utils.py:492: The name tf.ragged.RaggedTensorValue is deprecated. Please use tf.compat.v1.ragged.RaggedTensorValue instead.\n",
      "\n",
      "WARNING:tensorflow:From c:\\Users\\prasad\\Downloads\\DL_Codes\\venv\\Lib\\site-packages\\keras\\src\\engine\\base_layer_utils.py:384: The name tf.executing_eagerly_outside_functions is deprecated. Please use tf.compat.v1.executing_eagerly_outside_functions instead.\n",
      "\n",
      "313/313 [==============================] - 5s 13ms/step - loss: 1.9065 - accuracy: 0.3161 - val_loss: 1.7866 - val_accuracy: 0.3690\n",
      "Epoch 2/15\n",
      "313/313 [==============================] - 4s 12ms/step - loss: 1.7258 - accuracy: 0.3877 - val_loss: 1.7438 - val_accuracy: 0.3824\n",
      "Epoch 3/15\n",
      "313/313 [==============================] - 4s 12ms/step - loss: 1.6444 - accuracy: 0.4127 - val_loss: 1.6628 - val_accuracy: 0.4032\n",
      "Epoch 4/15\n",
      "313/313 [==============================] - 4s 12ms/step - loss: 1.5975 - accuracy: 0.4307 - val_loss: 1.6405 - val_accuracy: 0.4161\n",
      "Epoch 5/15\n",
      "313/313 [==============================] - 4s 12ms/step - loss: 1.5523 - accuracy: 0.4480 - val_loss: 1.5993 - val_accuracy: 0.4356\n",
      "Epoch 6/15\n",
      "313/313 [==============================] - 4s 13ms/step - loss: 1.5175 - accuracy: 0.4598 - val_loss: 1.5670 - val_accuracy: 0.4485\n",
      "Epoch 7/15\n",
      "313/313 [==============================] - 4s 12ms/step - loss: 1.4805 - accuracy: 0.4726 - val_loss: 1.5474 - val_accuracy: 0.4542\n",
      "Epoch 8/15\n",
      "313/313 [==============================] - 4s 13ms/step - loss: 1.4578 - accuracy: 0.4827 - val_loss: 1.5339 - val_accuracy: 0.4599\n",
      "Epoch 9/15\n",
      "313/313 [==============================] - 4s 12ms/step - loss: 1.4418 - accuracy: 0.4868 - val_loss: 1.4994 - val_accuracy: 0.4705\n",
      "Epoch 10/15\n",
      "313/313 [==============================] - 4s 13ms/step - loss: 1.4157 - accuracy: 0.4953 - val_loss: 1.5235 - val_accuracy: 0.4664\n",
      "Epoch 11/15\n",
      "313/313 [==============================] - 4s 12ms/step - loss: 1.3951 - accuracy: 0.5034 - val_loss: 1.5159 - val_accuracy: 0.4640\n",
      "Epoch 12/15\n",
      "313/313 [==============================] - 4s 13ms/step - loss: 1.3812 - accuracy: 0.5084 - val_loss: 1.4888 - val_accuracy: 0.4739\n",
      "Epoch 13/15\n",
      "313/313 [==============================] - 4s 12ms/step - loss: 1.3671 - accuracy: 0.5117 - val_loss: 1.5494 - val_accuracy: 0.4540\n",
      "Epoch 14/15\n",
      "313/313 [==============================] - 4s 12ms/step - loss: 1.3426 - accuracy: 0.5223 - val_loss: 1.4547 - val_accuracy: 0.4947\n",
      "Epoch 15/15\n",
      "313/313 [==============================] - 4s 12ms/step - loss: 1.3299 - accuracy: 0.5289 - val_loss: 1.4513 - val_accuracy: 0.4912\n"
     ]
    },
    {
     "data": {
      "text/plain": [
       "<keras.src.callbacks.History at 0x23b920457d0>"
      ]
     },
     "execution_count": 7,
     "metadata": {},
     "output_type": "execute_result"
    }
   ],
   "source": [
    "model.fit(train_images, train_labels, epochs=15, batch_size=128, validation_split=0.2)"
   ]
  },
  {
   "cell_type": "code",
   "execution_count": 8,
   "metadata": {},
   "outputs": [
    {
     "name": "stdout",
     "output_type": "stream",
     "text": [
      "313/313 [==============================] - 1s 2ms/step - loss: 1.4339 - accuracy: 0.4903\n",
      "Test accuracy: 0.4902999997138977\n"
     ]
    }
   ],
   "source": [
    "test_loss, test_acc = model.evaluate(test_images, test_labels)\n",
    "print(f'Test accuracy: {test_acc}')"
   ]
  },
  {
   "cell_type": "code",
   "execution_count": 13,
   "metadata": {},
   "outputs": [
    {
     "data": {
      "image/png": "[encoded data removed]",
      "text/plain": [
       "<Figure size 640x480 with 1 Axes>"
      ]
     },
     "metadata": {},
     "output_type": "display_data"
    },
    {
     "name": "stdout",
     "output_type": "stream",
     "text": [
      "313/313 [==============================] - 1s 4ms/step\n"
     ]
    },
    {
     "ename": "IndexError",
     "evalue": "arrays used as indices must be of integer (or boolean) type",
     "output_type": "error",
     "traceback": [
      "\u001b[1;31m---------------------------------------------------------------------------\u001b[0m",
      "\u001b[1;31mIndexError\u001b[0m                                Traceback (most recent call last)",
      "\u001b[1;32mc:\\Users\\prasad\\Downloads\\DL_Codes\\FFCifar.ipynb Cell 9\u001b[0m line \u001b[0;36m1\n\u001b[0;32m      <a href='vscode-notebook-cell:/c%3A/Users/prasad/Downloads/DL_Codes/FFCifar.ipynb#X11sZmlsZQ%3D%3D?line=7'>8</a>\u001b[0m predicted_classes \u001b[39m=\u001b[39m np\u001b[39m.\u001b[39margmax(predicted_value, axis\u001b[39m=\u001b[39m\u001b[39m1\u001b[39m)\n\u001b[0;32m      <a href='vscode-notebook-cell:/c%3A/Users/prasad/Downloads/DL_Codes/FFCifar.ipynb#X11sZmlsZQ%3D%3D?line=8'>9</a>\u001b[0m \u001b[39m# print(test_labels[n])\u001b[39;00m\n\u001b[1;32m---> <a href='vscode-notebook-cell:/c%3A/Users/prasad/Downloads/DL_Codes/FFCifar.ipynb#X11sZmlsZQ%3D%3D?line=9'>10</a>\u001b[0m \u001b[39mprint\u001b[39m(predicted_classes[test_labels])\n\u001b[0;32m     <a href='vscode-notebook-cell:/c%3A/Users/prasad/Downloads/DL_Codes/FFCifar.ipynb#X11sZmlsZQ%3D%3D?line=11'>12</a>\u001b[0m plt\u001b[39m.\u001b[39mshow()\n",
      "\u001b[1;31mIndexError\u001b[0m: arrays used as indices must be of integer (or boolean) type"
     ]
    }
   ],
   "source": [
    "import random\n",
    "import matplotlib.pyplot as plt\n",
    "import numpy as np\n",
    "n = random.randint(0, 9999)\n",
    "plt.imshow(test_images[n])\n",
    "plt.show()\n",
    "predicted_value = model.predict(test_images)\n",
    "predicted_classes = np.argmax(predicted_value, axis=1)\n",
    "# print(test_labels[n])\n",
    "print(predicted_classes[test_labels])\n",
    "\n",
    "plt.show()"
   ]
  },
  {
   "cell_type": "code",
   "execution_count": null,
   "metadata": {},
   "outputs": [],
   "source": []
  }
 ],
 "metadata": {
  "kernelspec": {
   "display_name": "venv",
   "language": "python",
   "name": "python3"
  },
  "language_info": {
   "codemirror_mode": {
    "name": "ipython",
    "version": 3
   },
   "file_extension": ".py",
   "mimetype": "text/x-python",
   "name": "python",
   "nbconvert_exporter": "python",
   "pygments_lexer": "ipython3",
   "version": "3.11.5"
  }
 },
 "nbformat": 4,
 "nbformat_minor": 2
}
